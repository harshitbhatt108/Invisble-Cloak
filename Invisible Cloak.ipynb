{
 "cells": [
  {
   "cell_type": "code",
   "execution_count": 1,
   "metadata": {},
   "outputs": [],
   "source": [
    "import cv2\n",
    "import time\n",
    "import numpy as np"
   ]
  },
  {
   "cell_type": "code",
   "execution_count": null,
   "metadata": {},
   "outputs": [],
   "source": [
    "##writing the output video\n",
    "fourcc = cv2.VideoWriter_fourcc(*'XVID')\n",
    "out = cv2.VideoWriter('output.avi',fourcc,20.0, (640,480))\n",
    "\n",
    "##reads from webcam \n",
    "cap = cv2.VideoCapture(0)\n",
    "\n",
    "##system to sleep for 3 seconds before webcam starts\n",
    "time.sleep(3)\n",
    "count = 0\n",
    "background = 0\n",
    "\n",
    "## Capture the background[range of 60]\n",
    "for i in range(60):\n",
    "    ret,background = cap.read()\n",
    "background = np.flip(background,axis=1)\n",
    "\n",
    "\n",
    "## Read every frame from the webcam\n",
    "while(cap.isOpened()):\n",
    "    ret, img = cap.read()\n",
    "    if not ret:\n",
    "        break\n",
    "    count+=1\n",
    "    img = np.flip(img,axis=1)\n",
    "    \n",
    "    ## Convert the color space from BGR to HSV\n",
    "    hsv = cv2.cvtColor(img, cv2.COLOR_BGR2HSV)\n",
    "\n",
    "    ##detection of red color\n",
    "    lower_red = np.array([0,120,50])\n",
    "    upper_red = np.array([10,255,255])\n",
    "    mask1 = cv2.inRange(hsv,lower_red,upper_red)\n",
    "\n",
    "    lower_red = np.array([170,120,70])\n",
    "    upper_red = np.array([180,255,255])\n",
    "    mask2 = cv2.inRange(hsv,lower_red,upper_red)\n",
    "\n",
    "    mask1 = mask1+mask2\n",
    "\n",
    "    ## Open and make large mask image\n",
    "    mask1 = cv2.morphologyEx(mask1, cv2.MORPH_OPEN, np.ones((3,3),np.uint8))\n",
    "    mask1 = cv2.morphologyEx(mask1, cv2.MORPH_DILATE, np.ones((3,3),np.uint8))\n",
    " \n",
    " \n",
    "    ## Create an inverted mask to segment out the red color from the frame\n",
    "    mask2 = cv2.bitwise_not(mask1)\n",
    " \n",
    " \n",
    "    ## Segment the red color part out of the frame using bitwise and with the inverted mask\n",
    "    res1 = cv2.bitwise_and(img,img,mask=mask2)\n",
    "\n",
    "    ## Create image showing static background frame pixels only for the masked region\n",
    "    res2 = cv2.bitwise_and(background, background, mask = mask1)\n",
    " \n",
    " \n",
    "    ## Generating the final output and writing\n",
    "    finalOutput = cv2.addWeighted(res1,1,res2,1,0)\n",
    "    out.write(finalOutput)\n",
    "    cv2.imshow(\"PotterHead\",finalOutput)\n",
    "    cv2.waitKey(1)\n",
    "\n",
    "cap.release()\n",
    "out.release()\n",
    "cv2.destroyAllWindows()\n"
   ]
  },
  {
   "cell_type": "code",
   "execution_count": null,
   "metadata": {},
   "outputs": [],
   "source": []
  }
 ],
 "metadata": {
  "kernelspec": {
   "display_name": "Python 3",
   "language": "python",
   "name": "python3"
  },
  "language_info": {
   "codemirror_mode": {
    "name": "ipython",
    "version": 3
   },
   "file_extension": ".py",
   "mimetype": "text/x-python",
   "name": "python",
   "nbconvert_exporter": "python",
   "pygments_lexer": "ipython3",
   "version": "3.7.4"
  }
 },
 "nbformat": 4,
 "nbformat_minor": 4
}
